{
 "cells": [
  {
   "cell_type": "code",
   "execution_count": 1,
   "id": "0a102346",
   "metadata": {},
   "outputs": [
    {
     "name": "stdout",
     "output_type": "stream",
     "text": [
      "MONAI version: 0.8.1\n",
      "Numpy version: 1.22.3\n",
      "Pytorch version: 1.10.2+cpu\n",
      "MONAI flags: HAS_EXT = False, USE_COMPILED = False\n",
      "MONAI rev id: 71ff399a3ea07aef667b23653620a290364095b1\n",
      "\n",
      "Optional dependencies:\n",
      "Pytorch Ignite version: NOT INSTALLED or UNKNOWN VERSION.\n",
      "Nibabel version: 3.2.2\n",
      "scikit-image version: NOT INSTALLED or UNKNOWN VERSION.\n",
      "Pillow version: 9.0.1\n",
      "Tensorboard version: NOT INSTALLED or UNKNOWN VERSION.\n",
      "gdown version: NOT INSTALLED or UNKNOWN VERSION.\n",
      "TorchVision version: 0.11.3+cpu\n",
      "tqdm version: 4.63.0\n",
      "lmdb version: NOT INSTALLED or UNKNOWN VERSION.\n",
      "psutil version: NOT INSTALLED or UNKNOWN VERSION.\n",
      "pandas version: NOT INSTALLED or UNKNOWN VERSION.\n",
      "einops version: NOT INSTALLED or UNKNOWN VERSION.\n",
      "transformers version: NOT INSTALLED or UNKNOWN VERSION.\n",
      "mlflow version: NOT INSTALLED or UNKNOWN VERSION.\n",
      "\n",
      "For details about installing the optional dependencies, please visit:\n",
      "    https://docs.monai.io/en/latest/installation.html#installing-the-recommended-dependencies\n",
      "\n"
     ]
    }
   ],
   "source": [
    "# Copyright 2020 MONAI Consortium\n",
    "# Licensed under the Apache License, Version 2.0 (the \"License\");\n",
    "# you may not use this file except in compliance with the License.\n",
    "# You may obtain a copy of the License at\n",
    "#     http://www.apache.org/licenses/LICENSE-2.0\n",
    "# Unless required by applicable law or agreed to in writing, software\n",
    "# distributed under the License is distributed on an \"AS IS\" BASIS,\n",
    "# WITHOUT WARRANTIES OR CONDITIONS OF ANY KIND, either express or implied.\n",
    "# See the License for the specific language governing permissions and\n",
    "# limitations under the License.\n",
    "%matplotlib inline\n",
    "import os\n",
    "import sys\n",
    "from sklearn.metrics import precision_recall_curve, roc_curve, roc_auc_score\n",
    "import matplotlib.pyplot as plt\n",
    "import numpy as np\n",
    "from pathlib import Path\n",
    "import natsort\n",
    "import torch\n",
    "import torch.nn.functional as F\n",
    "from monai.config import print_config\n",
    "from monai.metrics import (\n",
    "    get_confusion_matrix,\n",
    "    compute_meandice,\n",
    "    compute_confusion_matrix_metric\n",
    ")\n",
    "print_config()"
   ]
  },
  {
   "cell_type": "code",
   "execution_count": 2,
   "id": "0460eda3",
   "metadata": {},
   "outputs": [
    {
     "name": "stdout",
     "output_type": "stream",
     "text": [
      "C:/Users/Karolinah/Documents/AICourse/testSet\n"
     ]
    }
   ],
   "source": [
    "root_dir = \"C:/Users/Karolinah/Documents/AICourse/testSet\"\n",
    "print(root_dir)"
   ]
  },
  {
   "cell_type": "code",
   "execution_count": 3,
   "id": "fb4df17f",
   "metadata": {},
   "outputs": [
    {
     "name": "stdout",
     "output_type": "stream",
     "text": [
      "confusion matrix\n",
      "each column is true positive, false positive, true negative and false negative\n",
      "each row is background, ET, edema, nonET\n",
      "tensor([[5.6913e+04, 1.7691e+02, 4.8454e+02, 2.5616e+01],\n",
      "        [2.9729e+01, 2.7746e+00, 5.7450e+04, 1.1703e+02],\n",
      "        [2.6726e+02, 1.0146e+02, 5.7115e+04, 1.1646e+02],\n",
      "        [9.6290e+01, 1.2648e+01, 5.7456e+04, 3.4693e+01]])\n",
      "\n",
      "for each metric it follows: background, ET, edema, nonET\n",
      "sensitivity: tensor([0.9996, 0.2026, 0.6965, 0.7351])\n",
      "specificity: tensor([0.7325, 1.0000, 0.9982, 0.9998])\n",
      "precision: tensor([0.9969, 0.9146, 0.7248, 0.8839])\n",
      "negative predictive value: tensor([0.9498, 0.9980, 0.9980, 0.9994])\n",
      "miss rate: tensor([4.4989e-04, 7.9742e-01, 3.0350e-01, 2.6486e-01])\n",
      "fall out: tensor([2.6746e-01, 4.8293e-05, 1.7733e-03, 2.2009e-04])\n",
      "false discovery rate: tensor([0.0031, 0.0854, 0.2752, 0.1161])\n",
      "false omission rate: tensor([0.0502, 0.0020, 0.0020, 0.0006])\n",
      "prevalence threshold: tensor([0.3409, 0.0152, 0.0480, 0.0170])\n",
      "threat score: tensor([0.9965, 0.1988, 0.5508, 0.6704])\n",
      "accuracy: tensor([0.9965, 0.9979, 0.9962, 0.9992])\n",
      "balanced accuracy: tensor([0.8660, 0.6013, 0.8474, 0.8675])\n",
      "f1 score: tensor([0.9982, 0.3317, 0.7104, 0.8027])\n",
      "matthews correlation coefficient: tensor([0.8325, 0.4299, 0.7086, 0.8057])\n",
      "fowlkes mallows index: tensor([0.9982, 0.4304, 0.7105, 0.8061])\n",
      "informedness: tensor([0.7321, 0.2025, 0.6947, 0.7349])\n",
      "markedness: tensor([0.9467, 0.9126, 0.7228, 0.8833])\n",
      "\n",
      "dice\n",
      "tensor([0.9982, 0.2963, 0.6136, 0.6518])\n",
      "tensor(0.6400)\n",
      "done confusion matrix\n"
     ]
    }
   ],
   "source": [
    "cnfmx = None\n",
    "dice = torch.zeros(4)\n",
    "metric_name = [\"sensitivity\", \"specificity\", \"precision\", \"negative predictive value\",\n",
    "               \"miss rate\", \"fall out\", \"false discovery rate\", \"false omission rate\",\n",
    "               \"prevalence threshold\", \"threat score\", \"accuracy\", \"balanced accuracy\",\n",
    "               \"f1 score\", \"matthews correlation coefficient\", \"fowlkes mallows index\",\n",
    "               \"informedness\", \"markedness\"]\n",
    "dicecnt = torch.zeros(4)\n",
    "for i in range(358):\n",
    "    #print('Working on test slice ' + str(i))\n",
    "    # loads the data\n",
    "    p = Path(root_dir)\n",
    "    files = []\n",
    "    files.append(list(p.glob('image'+str(i)+'.npz')))\n",
    "    files.append(list(p.glob('predArg'+str(i)+'.npz')))\n",
    "    files.append(list(p.glob('y'+str(i)+'.npz')))\n",
    "    image = np.load(files[0][0])\n",
    "    image = image['arr_0']\n",
    "    predArg = np.load(files[1][0])\n",
    "    predArg = predArg['arr_0']\n",
    "    y = np.load(files[2][0])\n",
    "    y = y['arr_0']\n",
    "    y = torch.from_numpy(y)\n",
    "    y = torch.cat((torch.sum(y,-1,True)==0,y),3)\n",
    "    y = y.permute((0,3,1,2))\n",
    "    predArg = F.one_hot(torch.from_numpy(predArg),4)\n",
    "    predArg = predArg.permute((0,3,1,2))\n",
    "    if cnfmx is None:\n",
    "        cnfmx = get_confusion_matrix(predArg,y)\n",
    "        continue\n",
    "    cnfmx = torch.vstack((cnfmx,get_confusion_matrix(predArg,y)))\n",
    "    tmpdice = torch.nanmean(compute_meandice(predArg,y),0)\n",
    "    for k, tmp in enumerate(tmpdice):\n",
    "        if ~torch.isnan(tmp):\n",
    "            dice[k] += tmp\n",
    "            dicecnt[k] += 1\n",
    "print('confusion matrix')\n",
    "print('each column is true positive, false positive, true negative and false negative')\n",
    "print('each row is background, ET, edema, nonET')\n",
    "cnfmx = torch.mean(cnfmx,0)\n",
    "print(cnfmx)\n",
    "print('\\nfor each metric it follows: background, ET, edema, nonET')\n",
    "for metnm in metric_name:\n",
    "    tmp = compute_confusion_matrix_metric(metnm,cnfmx)\n",
    "    print(metnm+\": \"+str(tmp))\n",
    "dice = dice.float()\n",
    "dicecnt = dicecnt.float()\n",
    "dice /= dicecnt\n",
    "print('\\ndice')\n",
    "print(dice)\n",
    "print(torch.mean(dice))\n",
    "print('done confusion matrix')"
   ]
  },
  {
   "cell_type": "code",
   "execution_count": 7,
   "id": "8efd60c1",
   "metadata": {},
   "outputs": [
    {
     "name": "stdout",
     "output_type": "stream",
     "text": [
      "plotted 5\n",
      "[0.91091739 0.96546974 0.95994774 0.98503195]\n"
     ]
    },
    {
     "data": {
      "image/png": "[encoded data removed]",
      "text/plain": [
       "<Figure size 432x288 with 1 Axes>"
      ]
     },
     "metadata": {
      "needs_background": "light"
     },
     "output_type": "display_data"
    },
    {
     "data": {
      "image/png": "[encoded data removed]",
      "text/plain": [
       "<Figure size 432x288 with 1 Axes>"
      ]
     },
     "metadata": {
      "needs_background": "light"
     },
     "output_type": "display_data"
    }
   ],
   "source": [
    "batch_plt_nb = 5\n",
    "auc = np.zeros(4)\n",
    "auccnt = np.zeros(4)\n",
    "fig1 = plt.figure()\n",
    "ax1 = plt.axes()\n",
    "fig2 = plt.figure()\n",
    "ax2 = plt.axes()\n",
    "for i in range(358):\n",
    "    # for some reason 210 predSoft won't load, maybe corrupted\n",
    "    if i == 210:\n",
    "        continue\n",
    "    #print('Working on test slice ' + str(i))\n",
    "    # loads the data\n",
    "    p = Path(root_dir)\n",
    "    files = []\n",
    "    files.append(list(p.glob('predSoft'+str(i)+'.npz')))\n",
    "    files.append(list(p.glob('y'+str(i)+'.npz')))\n",
    "    predSoft = np.load(files[0][0])\n",
    "    predSoft = predSoft['arr_0']\n",
    "    y = np.load(files[1][0])\n",
    "    y = y['arr_0']\n",
    "    y = np.concatenate((np.sum(y,axis=-1,keepdims=True)==0,y),3)\n",
    "    y = y.transpose((0,3,1,2))\n",
    "    for j in range(y.shape[1]):\n",
    "        if np.count_nonzero(y[:,j,:,:].flatten()) != 0:\n",
    "            auc[j] += roc_auc_score(y[:,j,:,:].flatten(),predSoft[:,j,:,:].flatten())\n",
    "            auccnt[j] += 1\n",
    "    if i == int(batch_plt_nb):\n",
    "        print('plotted ' + str(i))\n",
    "        for j in range(y.shape[1]):\n",
    "            precision, recall, _ = precision_recall_curve(y[:,j,:,:].flatten(),\n",
    "                                                          predSoft[:,j,:,:].flatten())\n",
    "            ax1.plot(recall,precision)\n",
    "        ax1.legend(('background','ET','Edema','NonET'))\n",
    "        ax1.set_ylabel('Precision')\n",
    "        ax1.set_xlabel('Recall')\n",
    "        for j in range(y.shape[1]):\n",
    "            fpr, tpr, _ = roc_curve(y[:,j,:,:].flatten(),\n",
    "                                    predSoft[:,j,:,:].flatten())\n",
    "            ax2.plot(fpr,tpr)\n",
    "        ax2.legend(('background','ET','Edema','NonET'))\n",
    "        ax2.set_ylabel('True Positive Rate')\n",
    "        ax2.set_xlabel('False Positive Rate')\n",
    "auc /= auccnt\n",
    "print(auc)"
   ]
  },
  {
   "cell_type": "code",
   "execution_count": null,
   "id": "fe5b2d00",
   "metadata": {},
   "outputs": [],
   "source": []
  }
 ],
 "metadata": {
  "kernelspec": {
   "display_name": "Python 3 (ipykernel)",
   "language": "python",
   "name": "python3"
  },
  "language_info": {
   "codemirror_mode": {
    "name": "ipython",
    "version": 3
   },
   "file_extension": ".py",
   "mimetype": "text/x-python",
   "name": "python",
   "nbconvert_exporter": "python",
   "pygments_lexer": "ipython3",
   "version": "3.9.10"
  }
 },
 "nbformat": 4,
 "nbformat_minor": 5
}
